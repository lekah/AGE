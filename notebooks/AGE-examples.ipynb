{
 "cells": [
  {
   "cell_type": "markdown",
   "metadata": {},
   "source": [
    "# The AiiDA Graph Explorer (AGE)"
   ]
  },
  {
   "cell_type": "markdown",
   "metadata": {},
   "source": [
    "## Introduction"
   ]
  },
  {
   "cell_type": "markdown",
   "metadata": {},
   "source": [
    "The Aiida Graph Explorer is a tool that allows to query the AiiDA Graph. For simple (and not-so-simple) queries you can already use the QueryBuilder functionality.\n",
    "The functionality shown here can help targeting recursive queries and operations that can be described as *Update rules*. Some examples are:\n",
    " - Get all nodes that are connected (via any kind of link) to a given node.\n",
    " - If groups are defined as *adjacent* if they store the same node, get all connected groups of a certain group"
   ]
  },
  {
   "cell_type": "markdown",
   "metadata": {},
   "source": [
    "### First Example: Getting all children of a Node"
   ]
  },
  {
   "cell_type": "code",
   "execution_count": 1,
   "metadata": {},
   "outputs": [
    {
     "name": "stderr",
     "output_type": "stream",
     "text": [
      "/home/leo/.virtualenvs/develop/local/lib/python2.7/site-packages/psycopg2/__init__.py:144: UserWarning: The psycopg2 wheel package will be renamed from release 2.8; in order to keep installing from binary please use \"pip install psycopg2-binary\" instead. For details see: <http://initd.org/psycopg/docs/install.html#binary-install-from-pypi>.\n",
      "  \"\"\")\n"
     ]
    }
   ],
   "source": [
    "from aiida.backends.utils import load_dbenv, is_dbenv_loaded\n",
    "\n",
    "if not is_dbenv_loaded():\n",
    "    load_dbenv(profile='test_dj1')"
   ]
  },
  {
   "cell_type": "markdown",
   "metadata": {},
   "source": [
    "First I am creating nodes, by using a utility function. Recursively, up to level *DEPTH*, I am creating *NR_OF_CHILDREN* children for every node, and plotting the resulting tree:"
   ]
  },
  {
   "cell_type": "code",
   "execution_count": 16,
   "metadata": {},
   "outputs": [
    {
     "name": "stdout",
     "output_type": "stream",
     "text": [
      "\n",
      "                                                  /-CalculationNode [20208]\n",
      "                                      /Data [20204]\n",
      "                                     |            \\-CalculationNode [20209]\n",
      "               /CalculationNode [20202]\n",
      "              |                      |            /-CalculationNode [20210]\n",
      "              |                       \\Data [20205]\n",
      "              |                                   \\-CalculationNode [20211]\n",
      "-- /Data [20201]\n",
      "              |                                   /-CalculationNode [20212]\n",
      "              |                       /Data [20206]\n",
      "              |                      |            \\-CalculationNode [20213]\n",
      "               \\CalculationNode [20203]\n",
      "                                     |            /-CalculationNode [20214]\n",
      "                                      \\Data [20207]\n",
      "                                                  \\-CalculationNode [20215]\n"
     ]
    }
   ],
   "source": [
    "from age.utils import create_tree\n",
    "from aiida.utils.ascii_vis import draw_children\n",
    "from aiida.common.links import  LinkType\n",
    "# The number of layers I will create:\n",
    "DEPTH = 4\n",
    "# the branching at every level, i.e. the number of children per parent Node:\n",
    "NR_OF_CHILDREN = 2\n",
    "\n",
    "# Using a util function to create the tree:\n",
    "parent, _, _ = create_tree(DEPTH, NR_OF_CHILDREN)\n",
    "# Using a visualizer within AiiDA!\n",
    "print(draw_children(parent, dist=DEPTH,\n",
    "        follow_links_of_type=(LinkType.INPUT_CALC, LinkType.CREATE)))"
   ]
  },
  {
   "cell_type": "raw",
   "metadata": {},
   "source": [
    "In this example, I am trying to get, with AGE, the 2nd level of children of the original node:"
   ]
  },
  {
   "cell_type": "code",
   "execution_count": null,
   "metadata": {},
   "outputs": [],
   "source": [
    "# Using a utilty function to create a Basket of results:\n",
    "starting_basket = get_entity_sets(node_ids=(parent.id,))\n",
    "# I'm defining the QueryBuilder that defines an operation:\n",
    "qb = QueryBuilder().append(Node, tag='n').append(Node, with_incoming='n')\n",
    "# I'm instantiating a Rule instance with qb, in replace mode that will run for 2 iterations:\n",
    "rule = UpdateRule(qb, mode=MODES.REPLACE, max_iterations=2)\n",
    "# I run the rule on my starting basket:\n",
    "res = rule.run(starting_basket)\n",
    "print(res)"
   ]
  },
  {
   "cell_type": "markdown",
   "metadata": {},
   "source": [
    "Let's review what happened here.\n",
    "First, I got (via a utility function) of Basket of EntitySets. An EntitySet is a Set of AiiDA instances of the same top level of ORM-classes. I.e. you can have an EntitySet that contains 2 nodes, but no set that contains a group and a node.\n",
    "\n",
    "Second, I define a QueryBuilder instance that will be given to the rule.\n",
    "What happens is easy to describe: The first item in QueryBuilder path (the first append) will define the starting entities, and the last item in the QueryBuilder path (the last append) defines the resulting entities."
   ]
  },
  {
   "cell_type": "code",
   "execution_count": null,
   "metadata": {},
   "outputs": [],
   "source": [
    "\n",
    "\n",
    "\n",
    "# Created all the nodes, tree. \n",
    "#Now testing whether I find all the descendants\n",
    "# Using the utility function to create the starting entity set:\n",
    "es = get_entity_sets(node_ids=(parent.id,))\n",
    "qb = QueryBuilder().append(Node, tag='n').append(Node, with_incoming='n')\n",
    "rule = UpdateRule(qb, mode=MODES.APPEND, max_iterations=np.inf)\n",
    "\n",
    "res = rule.run(es.copy())['nodes']._set\n",
    "\n",
    "\n",
    "\n",
    "for depth in range(0, self.DEPTH):\n",
    "    #print('At depth {}'.format(depth))\n",
    "    rule = UpdateRule(qb, mode=MODES.APPEND, max_iterations=depth)\n",
    "    res = rule.run(es.copy())['nodes']._set\n",
    "    #print('   Append-mode  results: {}'.format(', '.join(map(str, sorted(res)))))\n",
    "\n",
    "    \n",
    "    \n",
    "    \n",
    "    \n",
    "    should_set = set()\n",
    "    [[should_set.add(s) for s in desc_dict[d]] for d in range(depth+1)]\n",
    "\n",
    "    self.assertTrue(not(res.difference(should_set) or should_set.difference(res)))\n",
    "\n",
    "\n",
    "    \n",
    "    \n",
    "    \n",
    "    \n",
    "    rule = UpdateRule(qb, mode=MODES.REPLACE, max_iterations=depth)\n",
    "    res = rule.run(es.copy())['nodes']._set\n",
    "    #print('   Replace-mode results: {}'.format(', '.join(map(str, sorted(res)))))\n",
    "    should_set = desc_dict[depth]\n",
    "    self.assertTrue(not(res.difference(should_set) or should_set.difference(res)))\n",
    "\n"
   ]
  },
  {
   "cell_type": "code",
   "execution_count": null,
   "metadata": {},
   "outputs": [],
   "source": [
    "# Export rule:\n",
    "qb1 = QueryBuilder().append(Node, tag='n').append(Node, input_of='n')\n",
    "qb2 = QueryBuilder().append(Calculation, tag='n').append(Data, output_of='n')\n",
    "\n",
    "rule1 = UpdateRule(qb1, mode=MODES.APPEND, max_iterations=np.inf)\n",
    "rule2 = UpdateRule(qb2, mode=MODES.APPEND, max_iterations=1)\n",
    "\n",
    "rs = RuleSequence([rule1, rule2])\n"
   ]
  }
 ],
 "metadata": {
  "kernelspec": {
   "display_name": "Python 3",
   "language": "python",
   "name": "python3"
  },
  "language_info": {
   "codemirror_mode": {
    "name": "ipython",
    "version": 3
   },
   "file_extension": ".py",
   "mimetype": "text/x-python",
   "name": "python",
   "nbconvert_exporter": "python",
   "pygments_lexer": "ipython3",
   "version": "3.6.7"
  }
 },
 "nbformat": 4,
 "nbformat_minor": 2
}
