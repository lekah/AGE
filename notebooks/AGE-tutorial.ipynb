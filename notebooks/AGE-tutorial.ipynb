{
 "cells": [
  {
   "cell_type": "code",
   "execution_count": 17,
   "metadata": {},
   "outputs": [],
   "source": [
    "from aiida.backends.utils import load_dbenv, is_dbenv_loaded\n",
    "if not is_dbenv_loaded():\n",
    "    load_dbenv(profile='test_dj1') # Insert the name of the test profile!\n",
    "from age.utils import create_tree\n",
    "from age.entities import get_basket\n",
    "from age.rules import UpdateRule, RuleSequence, MODES\n",
    "\n",
    "from aiida.common.links import  LinkType\n",
    "from aiida.orm.querybuilder import QueryBuilder\n",
    "from aiida.orm.node import Node\n",
    "from aiida.orm.data import Data\n",
    "from aiida.orm.group import Group\n",
    "from aiida.orm.calculation.work import WorkCalculation\n",
    "\n",
    "from aiida.utils.ascii_vis import draw_children\n",
    "\n",
    "from datetime import datetime\n",
    "import numpy as np"
   ]
  },
  {
   "cell_type": "markdown",
   "metadata": {},
   "source": [
    "# The AiiDA Graph Explorer (AGE)\n",
    "## Introduction\n",
    "The Aiida Graph Explorer is a tool that allows to query the AiiDA Graph. For simple (and not-so-simple) queries you can already use the QueryBuilder functionality.\n",
    "The functionality shown here can help targeting recursive queries and operations that can be described as *Update rules*. Some examples are:\n",
    " - Get all nodes that are connected (via any kind of link) to a given node.\n",
    " - If groups are defined as *adjacent* if they store the same node, get all connected groups of a certain group\n",
    "\n",
    "## First Example: Getting all children of a Node\n",
    "\n",
    "In the first example, I am creating an artifial tree. For every node, I create a fixed number of children. Each child becomes a parent to the same number of children, and so on..."
   ]
  },
  {
   "cell_type": "code",
   "execution_count": 18,
   "metadata": {},
   "outputs": [
    {
     "name": "stdout",
     "output_type": "stream",
     "text": [
      "\n",
      "                                           /-Calculation [1123]\n",
      "                                /Data [1119]\n",
      "                               |           \\-Calculation [1124]\n",
      "              /Calculation [1117]\n",
      "             |                 |           /-Calculation [1125]\n",
      "             |                  \\Data [1120]\n",
      "             |                             \\-Calculation [1126]\n",
      "-- /Data [1116]\n",
      "             |                             /-Calculation [1127]\n",
      "             |                  /Data [1121]\n",
      "             |                 |           \\-Calculation [1128]\n",
      "              \\Calculation [1118]\n",
      "                               |           /-Calculation [1129]\n",
      "                                \\Data [1122]\n",
      "                                           \\-Calculation [1130]\n"
     ]
    }
   ],
   "source": [
    "# First I am creating nodes, by using a utility function.\n",
    "# Recursively, up to level *DEPTH*, I am creating *NR_OF_CHILDREN* children\n",
    "# for every node, and plotting the resulting tree:\n",
    "# The number of layers I will create:\n",
    "DEPTH = 4\n",
    "# the branching at every level, i.e. the number of children per parent Node:\n",
    "NR_OF_CHILDREN = 2\n",
    "\n",
    "# Using a util function to create the tree:\n",
    "descendants_dict = create_tree(DEPTH, NR_OF_CHILDREN)\n",
    "# Using a visualizer within AiiDA!\n",
    "draw_children(descendants_dict['parent'], dist=DEPTH)"
   ]
  },
  {
   "cell_type": "markdown",
   "metadata": {},
   "source": [
    "Now, I want all the nodes that are exactly 2 levels down from my starting node. Obviously, I could use the QueryBuilder for this, but also a so-called update rule, that I run exactly 2 times on a basket of nodes. See for yourself:"
   ]
  },
  {
   "cell_type": "code",
   "execution_count": 19,
   "metadata": {},
   "outputs": [
    {
     "name": "stdout",
     "output_type": "stream",
     "text": [
      "{1120,1121,1122,1119}\n",
      "[<Data: uuid: 67136321-86df-4fbf-82a0-a2966a1bc281 (pk: 1119)>, <Data: uuid: f7bd9d69-453b-48c1-acbe-04497c886817 (pk: 1120)>, <Data: uuid: 2e7ddad8-5399-474c-a244-41e5f053fb70 (pk: 1121)>, <Data: uuid: 7338278a-d57a-4c11-a3ed-4ca6a56ffae6 (pk: 1122)>]\n"
     ]
    }
   ],
   "source": [
    "# Using a utilty function to create a basket of results:\n",
    "starting_basket = get_basket(node_ids=(descendants_dict['parent'].id,))\n",
    "# I'm defining the QueryBuilder that defines an operation:\n",
    "qb = QueryBuilder().append(Node, tag='n').append(Node, output_of='n')\n",
    "# I'm instantiating a Rule instance with qb, in replace mode that will run for 2 iterations:\n",
    "rule = UpdateRule(qb, mode=MODES.REPLACE, max_iterations=2)\n",
    "# I run the rule on my starting basket:\n",
    "res = rule.run(starting_basket)\n",
    "# These are the results:\n",
    "# My node-ids:\n",
    "print(res.nodes) # prints the ids\n",
    "# The actual entities:\n",
    "print(list(res.nodes.get_entities()))"
   ]
  },
  {
   "cell_type": "markdown",
   "metadata": {},
   "source": [
    "Let's review what happened here.\n",
    "First, I got (via a utility function) of Basket of EntitySets. An EntitySet is a Set of AiiDA instances of the same top level of ORM-classes. I.e. you can have an EntitySet that contains 2 nodes, but no set that contains a group and a node.\n",
    "\n",
    "Second, I define a QueryBuilder instance that will be given to the rule.\n",
    "What happens is easy to describe: The first item in QueryBuilder path (the first append) will define the starting entities, and the last item in the QueryBuilder path (the last append) defines the resulting entities.\n",
    "\n",
    "What if you want all the nodes that are up to 2 levels down? Not just the nodes exactly 2 levels down, but including the in-between nodes, and the starting node:"
   ]
  },
  {
   "cell_type": "code",
   "execution_count": 20,
   "metadata": {},
   "outputs": [
    {
     "name": "stdout",
     "output_type": "stream",
     "text": [
      "{1120,1121,1122,1116,1117,1118,1119}\n",
      "[<Data: uuid: 3ddb1ed4-4096-44ff-9dec-e3635ea087be (pk: 1116)>, <Calculation: uuid: d8d33377-d6d2-4831-85f1-623156e0321a (pk: 1117)>, <Calculation: uuid: 6e20fc80-702f-4ffa-9d4e-54c1a44c2c4d (pk: 1118)>, <Data: uuid: 67136321-86df-4fbf-82a0-a2966a1bc281 (pk: 1119)>, <Data: uuid: f7bd9d69-453b-48c1-acbe-04497c886817 (pk: 1120)>, <Data: uuid: 2e7ddad8-5399-474c-a244-41e5f053fb70 (pk: 1121)>, <Data: uuid: 7338278a-d57a-4c11-a3ed-4ca6a56ffae6 (pk: 1122)>]\n"
     ]
    }
   ],
   "source": [
    "# Using a utilty function to create a Basket of results:\n",
    "starting_basket = get_basket(node_ids=(descendants_dict['parent'].id,))\n",
    "# I'm defining the QueryBuilder that defines an operation:\n",
    "qb = QueryBuilder().append(Node, tag='n').append(Node, output_of='n')\n",
    "# I'm instantiating a Rule instance with qb, in append mode that will run for 2 iterations:\n",
    "rule = UpdateRule(qb, mode=MODES.APPEND, max_iterations=2)\n",
    "# I run the rule on my starting basket:\n",
    "res = rule.run(starting_basket)\n",
    "# These are the results:\n",
    "# My node-ids:\n",
    "print(res.nodes) # prints the ids\n",
    "# The actual entities:\n",
    "print(list(res.nodes.get_entities()))"
   ]
  },
  {
   "cell_type": "markdown",
   "metadata": {},
   "source": [
    "The only difference is that we changed from mode=MODES.REPLACE to mode=MODES.APPEND. These modes describe what happens at every iteration.\n",
    "\n",
    "Next question: What happens if you run this rule not 1 or 2 times, but up to infinity? Try for yourself:"
   ]
  },
  {
   "cell_type": "code",
   "execution_count": 21,
   "metadata": {},
   "outputs": [
    {
     "name": "stdout",
     "output_type": "stream",
     "text": [
      "{1116,1117,1118,1119,1120,1121,1122,1123,1124,1125,1126,1127,1128,1129,1130}\n",
      "[<Data: uuid: 3ddb1ed4-4096-44ff-9dec-e3635ea087be (pk: 1116)>, <Calculation: uuid: d8d33377-d6d2-4831-85f1-623156e0321a (pk: 1117)>, <Calculation: uuid: 6e20fc80-702f-4ffa-9d4e-54c1a44c2c4d (pk: 1118)>, <Data: uuid: 67136321-86df-4fbf-82a0-a2966a1bc281 (pk: 1119)>, <Data: uuid: f7bd9d69-453b-48c1-acbe-04497c886817 (pk: 1120)>, <Data: uuid: 2e7ddad8-5399-474c-a244-41e5f053fb70 (pk: 1121)>, <Data: uuid: 7338278a-d57a-4c11-a3ed-4ca6a56ffae6 (pk: 1122)>, <Calculation: uuid: 5fd3a0f2-e0a0-4cab-9af5-5a489a6e092c (pk: 1123)>, <Calculation: uuid: 1dedaedf-8336-43a9-994f-18591d371558 (pk: 1124)>, <Calculation: uuid: 7f7e90a7-659d-48e1-8173-7beb7d3e78ad (pk: 1125)>, <Calculation: uuid: 25eca9e6-e4e5-4d15-9bc7-850c1fa4370c (pk: 1126)>, <Calculation: uuid: f157cf19-2719-42b2-bcc2-7ca5d0a990c8 (pk: 1127)>, <Calculation: uuid: 0434423e-c483-41fb-9c22-9e74801f8373 (pk: 1128)>, <Calculation: uuid: 7799fac0-f4a6-4810-b1ca-cf71a917392b (pk: 1129)>, <Calculation: uuid: 6d0963eb-3efd-4e9f-8985-88fba2c0910c (pk: 1130)>]\n"
     ]
    }
   ],
   "source": [
    "# Using a utilty function to create a Basket of results:\n",
    "starting_basket = get_basket(node_ids=(descendants_dict['parent'].id,))\n",
    "# I'm defining the QueryBuilder that defines an operation:\n",
    "qb = QueryBuilder().append(Node, tag='n').append(Node, output_of='n')\n",
    "# I'm instantiating a Rule instance with qb, in append mode,\n",
    "# that will run until it has walked everywhere possible given by rule\n",
    "rule = UpdateRule(qb, mode=MODES.APPEND, max_iterations=np.inf)\n",
    "# I run the rule on my starting basket:\n",
    "res = rule.run(starting_basket)\n",
    "# These are the results:\n",
    "# My node-ids:\n",
    "print(res.nodes) # prints the ids\n",
    "# The actual entities:\n",
    "print(list(res.nodes.get_entities()))"
   ]
  },
  {
   "cell_type": "markdown",
   "metadata": {},
   "source": [
    "The rule will run as long as it can add new entities to its basket. Therefore, here we go into territory that the  QueryBuilder cannot capture, namely exploring the AiiDA graph on the fly.\n",
    "But what will happen if there is a cycle, i.e. if we're not traversing a directed acyclic graph?"
   ]
  },
  {
   "cell_type": "code",
   "execution_count": 22,
   "metadata": {},
   "outputs": [
    {
     "name": "stdout",
     "output_type": "stream",
     "text": [
      "({1131,1132}, set([1131, 1132]))\n",
      "I did 2 iterations\n"
     ]
    }
   ],
   "source": [
    "# Is the AGE deterred by cycles? No, it is not:\n",
    "d = Data().store()\n",
    "c = WorkCalculation().store()\n",
    "# adding a loop, by having the data being both input to and returned by a workflow\n",
    "c.add_link_from(d, link_type=LinkType.INPUT, label='lala')\n",
    "d.add_link_from(c, link_type=LinkType.RETURN, label='lala')\n",
    "qb = QueryBuilder().append(Node, tag='n').append(Node, output_of='n')\n",
    "rule = UpdateRule(qb, mode=MODES.APPEND, max_iterations=np.inf)\n",
    "es = get_basket(node_ids=(d.id,))\n",
    "res = rule.run(es.copy())\n",
    "print(res.nodes, {d.id, c.id})\n",
    "print('I did {} iterations'.format(rule.get_iterations_done()))"
   ]
  },
  {
   "cell_type": "markdown",
   "metadata": {},
   "source": [
    "As you can see, the AiiDA Graph Explorer does not go into infinite loops. This is because it keeps track of where it has been and only applies the rule to new entities entering the basket. When it has traversed the graph completely once, it will stop.\n",
    "\n",
    "## Second Example: Groups and nodes\n",
    "\n",
    "The AiiDA Graph Explorer is more general, and does not only work with nodes. It can also accepts instances of Group as entities. In the following example, I create a couple of groups and a couple of nodes, and interlink them such that you can walk from every node to any other node if you there is a group that both nodes belong to.\n",
    "\n",
    "The first small rule that we define walks from a given node to any group that the node is a member of:"
   ]
  },
  {
   "cell_type": "code",
   "execution_count": 23,
   "metadata": {},
   "outputs": [
    {
     "name": "stdout",
     "output_type": "stream",
     "text": [
      "  nodes_nodes: {}\n",
      "  nodes: {1134}\n",
      "  groups: {248,249}\n",
      "\n"
     ]
    }
   ],
   "source": [
    "# Now, I create 4 nodes and 3 groups\n",
    "nodes = [Node().store() for i in range(4)]\n",
    "now = str(datetime.now())\n",
    "groups = [Group(name='{}-{}'.format(now, i)).store() for i in range(3)]\n",
    "\n",
    "# adding nodes 0 and 1 to group 0:\n",
    "groups[0].add_nodes(nodes[:2])\n",
    "# adding nodes 1 and 2 also to group 1\n",
    "groups[1].add_nodes(nodes[1:3])\n",
    "\n",
    "# adding nodes 2 and 3 to group 2\n",
    "groups[2].add_nodes(nodes[2:4])\n",
    "\n",
    "qb = QueryBuilder().append(Node, tag='n').append(Group, group_of='n')\n",
    "rule = UpdateRule(qb, mode=MODES.APPEND, max_iterations=np.inf)\n",
    "es = get_basket(node_ids=(nodes[1].id,))\n",
    "print(rule.run(es.copy()))"
   ]
  },
  {
   "cell_type": "markdown",
   "metadata": {},
   "source": [
    "What we need to walk from node to group to node is a *RuleSequence*, that is a way to execute several rules in series. This allows for very complicated **walks** in a graph. The RuleSequence that solves the little exercise of walking to all nodes that are connected via groups to recursive depth is as follows:"
   ]
  },
  {
   "cell_type": "code",
   "execution_count": 24,
   "metadata": {},
   "outputs": [
    {
     "name": "stdout",
     "output_type": "stream",
     "text": [
      "  nodes_nodes: {}\n",
      "  nodes: {1133,1134,1135,1136}\n",
      "  groups: {248,249,250}\n",
      "\n"
     ]
    }
   ],
   "source": [
    "# I define rule1. That rule gets me from nodes to all groups that\n",
    "# any node is a member of:\n",
    "qb1 = QueryBuilder().append(Node, tag='n').append(Group, group_of='n')\n",
    "rule1 = UpdateRule(qb1, mode=MODES.APPEND)\n",
    "\n",
    "# I define rule2: That rule gets me from groups to all the nodes that are member\n",
    "# of any group:\n",
    "qb2 = QueryBuilder().append(Group, tag='g').append(Node, member_of='g')\n",
    "rule2 = UpdateRule(qb2, mode=MODES.APPEND)\n",
    "\n",
    "# I define the rule sequence, which means that rule1 and rule2 are applied in\n",
    "# sequence, inside a loop that runs max_iterations times:\n",
    "rs = RuleSequence((rule1, rule2), max_iterations=np.inf)\n",
    "es = get_basket(node_ids=(nodes[0].id,))\n",
    "\n",
    "# getting the results:\n",
    "print(rs.run(es.copy()))"
   ]
  },
  {
   "cell_type": "code",
   "execution_count": null,
   "metadata": {},
   "outputs": [],
   "source": []
  }
 ],
 "metadata": {
  "kernelspec": {
   "display_name": "Python 2",
   "language": "python",
   "name": "python2"
  },
  "language_info": {
   "codemirror_mode": {
    "name": "ipython",
    "version": 2
   },
   "file_extension": ".py",
   "mimetype": "text/x-python",
   "name": "python",
   "nbconvert_exporter": "python",
   "pygments_lexer": "ipython2",
   "version": "2.7.15rc1"
  }
 },
 "nbformat": 4,
 "nbformat_minor": 2
}
